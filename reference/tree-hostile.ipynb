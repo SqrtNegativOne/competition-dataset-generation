{
 "cells": [
  {
   "cell_type": "code",
   "execution_count": 1,
   "id": "7f5bcfa6",
   "metadata": {},
   "outputs": [],
   "source": [
    "import numpy as np\n",
    "from typing import Literal, Tuple\n",
    "\n",
    "def generate_camouflaged_dataset(\n",
    "    core_pattern: Literal[\"diagonal_sine\", \"high_freq_sine\", \"poly_interaction\", \"xor\", \"spiral\"],\n",
    "    n_samples: int = 2000,\n",
    "    n_features: int = 50,\n",
    "    signal_dims: int = 2,\n",
    "    noise: float = 0.05,\n",
    "    random_state: int = 42\n",
    ") -> Tuple[np.ndarray, np.ndarray]:\n",
    "    \"\"\"\n",
    "    Generates a high-dimensional dataset where the signal is embedded\n",
    "    in a small subset of dimensions and the rest are random noise.\n",
    "    \n",
    "    core_pattern: The underlying pattern hidden in signal_dims features.\n",
    "    n_samples: Number of samples.\n",
    "    n_features: Total number of features in the dataset.\n",
    "    signal_dims: Number of dimensions that carry the actual signal (usually 1-3).\n",
    "    noise: Probability of label flipping OR numeric noise depending on pattern.\n",
    "    random_state: RNG seed.\n",
    "    \"\"\"\n",
    "    rng = np.random.default_rng(random_state)\n",
    "\n",
    "    # Step 1: Create the signal in low dimensions\n",
    "    if core_pattern == \"diagonal_sine\":\n",
    "        X_signal = rng.uniform(-2, 2, size=(n_samples, 2))\n",
    "        y = (np.sin(X_signal[:, 0] + X_signal[:, 1]) > 0).astype(int)\n",
    "    elif core_pattern == \"high_freq_sine\":\n",
    "        X_signal = rng.uniform(-1, 1, size=(n_samples, 1))\n",
    "        y = (np.sin(20 * X_signal[:, 0]) > 0).astype(int)\n",
    "    elif core_pattern == \"poly_interaction\":\n",
    "        X_signal = rng.uniform(-2, 2, size=(n_samples, 2))\n",
    "        y = ((X_signal[:, 0] + X_signal[:, 1])**5 > 0).astype(int)\n",
    "    elif core_pattern == \"xor\":\n",
    "        X_signal = rng.uniform(-1, 1, size=(n_samples, 2))\n",
    "        y = ((X_signal[:, 0] > 0) ^ (X_signal[:, 1] > 0)).astype(int)\n",
    "    elif core_pattern == \"spiral\":\n",
    "        theta = np.sqrt(rng.random(n_samples)) * 2 * np.pi\n",
    "        r = 2 * theta + np.pi\n",
    "        X1 = r * np.cos(theta) + rng.normal(0, noise, n_samples)\n",
    "        X2 = r * np.sin(theta) + rng.normal(0, noise, n_samples)\n",
    "        X_signal = np.vstack([X1, X2]).T\n",
    "        y = (theta % (2 * np.pi) > np.pi).astype(int)\n",
    "    else:\n",
    "        raise ValueError(f\"Unknown pattern: {core_pattern}\")\n",
    "\n",
    "    # Step 2: Add label noise\n",
    "    flip_mask = rng.random(n_samples) < noise\n",
    "    y[flip_mask] = 1 - y[flip_mask]\n",
    "\n",
    "    # Step 3: Embed the signal into high-dimensional noise\n",
    "    X_full = rng.normal(0, 1, size=(n_samples, n_features))\n",
    "    X_full[:, :signal_dims] = X_signal[:, :signal_dims]\n",
    "\n",
    "    # Optional: Randomly permute feature order so signal isn't always in first columns\n",
    "    perm = rng.permutation(n_features)\n",
    "    X_full = X_full[:, perm]\n",
    "\n",
    "    return X_full, y\n"
   ]
  },
  {
   "cell_type": "code",
   "execution_count": 2,
   "id": "37f9dba8",
   "metadata": {},
   "outputs": [
    {
     "name": "stdout",
     "output_type": "stream",
     "text": [
      "XGBoost score: 0.9248000000000001\n",
      "Logistic Regression score: 0.8552\n"
     ]
    }
   ],
   "source": [
    "from sklearn.model_selection import cross_val_score\n",
    "from sklearn.linear_model import LogisticRegression\n",
    "from xgboost import XGBClassifier\n",
    "\n",
    "X, y = generate_camouflaged_dataset(\"diagonal_sine\", n_samples=5000, n_features=50, signal_dims=2)\n",
    "\n",
    "xgb = XGBClassifier(eval_metric=\"logloss\")\n",
    "lr = LogisticRegression(max_iter=500)\n",
    "\n",
    "print(\"XGBoost score:\", cross_val_score(xgb, X, y, cv=5).mean())\n",
    "print(\"Logistic Regression score:\", cross_val_score(lr, X, y, cv=5).mean())"
   ]
  }
 ],
 "metadata": {
  "kernelspec": {
   "display_name": "Python 3",
   "language": "python",
   "name": "python3"
  },
  "language_info": {
   "codemirror_mode": {
    "name": "ipython",
    "version": 3
   },
   "file_extension": ".py",
   "mimetype": "text/x-python",
   "name": "python",
   "nbconvert_exporter": "python",
   "pygments_lexer": "ipython3",
   "version": "3.13.5"
  }
 },
 "nbformat": 4,
 "nbformat_minor": 5
}
