{
 "cells": [
  {
   "cell_type": "code",
   "execution_count": null,
   "id": "23d82437",
   "metadata": {},
   "outputs": [],
   "source": [
    "# Zalgo the column names. Kinda evil but it adds a bit of fun to the dataset.\n",
    "\n",
    "immune_cols = [renaming[ID_VARIABLE_NAME], renaming[TARGET_VARIABLE_NAME]]\n",
    "\n",
    "# Zalgo character set\n",
    "zalgo_up = [chr(c) for c in range(0x0300, 0x036F)]\n",
    "zalgo_mid = [chr(c) for c in range(0x1AB0, 0x1AFF)]\n",
    "zalgo_down = [chr(c) for c in range(0x1DC0, 0x1DFF)]\n",
    "zalgo_chars = zalgo_up + zalgo_mid + zalgo_down\n",
    "\n",
    "def zalgoify(text: str, mean_marks: float = 0.05, std_marks: float = 0.3) -> str:\n",
    "    \"\"\"\n",
    "    mean_marks: mean number of diacritic marks per character (Gaussian distribution)\n",
    "    std_marks: standard deviation for the number of marks\n",
    "    \"\"\"\n",
    "    zalgo_text = \"\"\n",
    "    for char in text:\n",
    "        zalgo_text += char\n",
    "        marks_count = int(round(random.gauss(mean_marks, std_marks)))\n",
    "        if marks_count > 0:\n",
    "            for _ in range(marks_count):\n",
    "                zalgo_text += random.choice(zalgo_chars)\n",
    "    return zalgo_text\n",
    "\n",
    "# Apply zalgo to the column names\n",
    "df.columns = [zalgoify(col) for col in df.columns if col not in immune_cols] + \\\n",
    "             [col for col in df.columns if col in immune_cols]"
   ]
  }
 ],
 "metadata": {
  "language_info": {
   "name": "python"
  }
 },
 "nbformat": 4,
 "nbformat_minor": 5
}
