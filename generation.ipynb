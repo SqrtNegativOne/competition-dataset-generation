{
 "cells": [
  {
   "cell_type": "code",
   "execution_count": 57,
   "id": "8255acf5",
   "metadata": {},
   "outputs": [],
   "source": [
    "import pandas as pd\n",
    "import numpy as np\n",
    "import random"
   ]
  },
  {
   "cell_type": "markdown",
   "id": "e74580ee",
   "metadata": {},
   "source": [
    "# DataFrame Creation"
   ]
  },
  {
   "cell_type": "code",
   "execution_count": 58,
   "id": "bcaf7517",
   "metadata": {},
   "outputs": [
    {
     "name": "stdout",
     "output_type": "stream",
     "text": [
      "Total number of samples: 33333\n"
     ]
    }
   ],
   "source": [
    "SEED = 42 # answer to everything\n",
    "# Don't really need reproducibility rn.\n",
    "# np.random.seed(SEED)\n",
    "# random.seed(SEED)\n",
    "\n",
    "TRAIN_FRAC = 0.3\n",
    "PUBLIC_LEADERBOARD_FRAC = 0.2\n",
    "PRIVATE_LEADERBOARD_FRAC = 0.5\n",
    "assert TRAIN_FRAC + PUBLIC_LEADERBOARD_FRAC + PRIVATE_LEADERBOARD_FRAC == 1, \"Fractions must sum to 1\"\n",
    "N_TRAIN_SAMPLES = 10000\n",
    "N_SAMPLES = int(N_TRAIN_SAMPLES // TRAIN_FRAC)\n",
    "print(f\"Total number of samples: {N_SAMPLES}\")\n",
    "\n",
    "PUBLIC_PRIVATE_SPLIT = 0.3 # Fraction of samples used for the public dataset\n",
    "TEST_TRAIN_SPLIT = 0.2 # Fraction of samples used for the test set\n",
    "\n",
    "ID_VARIABLE_NAME = \"ID\" # Name of the ID variable.\n",
    "TARGET_VARIABLE_NAME = \"y\" # Name of the target variable.\n",
    "\n",
    "INITIAL_NOISE = 0.1 # Previously was 0.3\n",
    "FINAL_NOISE = 0.05 # Added to the final target\n",
    "\n",
    "CAT_ERROR_PROB = 0.1 # Probability of categorical error\n",
    "TRAIN_NAN_PROB = 0.08\n",
    "PUBLIC_NAN_PROB = 0.12\n",
    "PRIVATE_NAN_PROB = 0.15\n",
    "\n",
    "DATA_DIR = \"data\""
   ]
  },
  {
   "cell_type": "code",
   "execution_count": 59,
   "id": "ee2f72b0",
   "metadata": {},
   "outputs": [],
   "source": [
    "class cds:\n",
    "    def __init__(self, weight: int) -> None:\n",
    "        self.weight = weight\n",
    "        \n",
    "        # Nominal\n",
    "        types = ['jut', 'kiv', 'tir', 'vel', 'qou']\n",
    "        types_p = [0.2, 0.3, 0.2, 0.2, 0.1]\n",
    "        type_col = np.random.choice(types, N_SAMPLES, p=types_p)\n",
    "\n",
    "        # Ordinal\n",
    "        matter = { # frequency, strength\n",
    "            'corro': (6, 0),\n",
    "            'corroyi': (5, 1),\n",
    "            'sfer': (5, 2),\n",
    "            'black corru': (3, 1),\n",
    "            'corruskivi': (2, 10),\n",
    "            'corrutir': (1, 10),\n",
    "            'corrutir vel': (1, 12),\n",
    "            'satik cyst': (5, 15),\n",
    "            'pale corru': (0, 30),\n",
    "        }\n",
    "        matter_f_sum = sum(freq for freq, _ in matter.values())\n",
    "        matter_p = [freq / matter_f_sum for freq, _ in matter.values()]\n",
    "        matter_names = list(matter.keys())\n",
    "        matter_col = np.random.choice(\n",
    "            matter_names,\n",
    "            N_SAMPLES,\n",
    "            p=matter_p\n",
    "        )\n",
    "\n",
    "        # Ordinal\n",
    "        mindspike_versions = {'tonga': 0, 'karbon': 1, 'silikon': 2, 'kristal': 3, 'nan': 4} # Replace 'nan' with an actual NaN later.\n",
    "        mindspike_v_col = np.random.choice(\n",
    "            list(mindspike_versions.keys()),\n",
    "            N_SAMPLES,\n",
    "            p=[0.1, 0.2, 0.2, 0.4, 0.1]\n",
    "        )\n",
    "\n",
    "        effect_matter = np.array([matter[m_name][1] for m_name in matter_col])\n",
    "        effect_mindspike = np.array([mindspike_versions[m_name] for m_name in mindspike_v_col])\n",
    "        y = effect_matter + effect_mindspike + np.random.normal(0, INITIAL_NOISE, N_SAMPLES)\n",
    "\n",
    "        for i in range(N_SAMPLES):\n",
    "            match type_col[i]:\n",
    "                case 'jut':\n",
    "                    y[i] *= 1.5\n",
    "                case 'kiv':\n",
    "                    y[i] *= 0.5\n",
    "                case 'tir':\n",
    "                    y[i] = 0\n",
    "                case 'vel':\n",
    "                    y[i] = np.sin(y[i])\n",
    "                case 'qou':\n",
    "                    y[i] *= 3\n",
    "\n",
    "        min_y = y.min()\n",
    "        max_y = y.max()\n",
    "        if min_y == max_y:\n",
    "            y = np.zeros_like(y)\n",
    "        else:\n",
    "            y = (y - min_y) / (max_y - min_y)  # Normalize y to [0, 1]\n",
    "\n",
    "        self.X = pd.DataFrame({\n",
    "            'type': type_col,\n",
    "            'matter': matter_col,\n",
    "            'mindspike': mindspike_v_col,\n",
    "        })\n",
    "        self.y = pd.Series(y, name='cat_y')\n",
    "\n",
    "        # Replace 'nan' string in mindspike with actual NaN\n",
    "        self.X['mindspike'] = self.X['mindspike'].replace('nan', np.nan)\n",
    "\n",
    "        # Induce categorical errors\n",
    "        n_rows = self.X.shape[0]\n",
    "        n_cat_errors = int(n_rows * CAT_ERROR_PROB)\n",
    "\n",
    "        # Randomly choose pairs of indices\n",
    "        error_row_indices = np.random.choice(self.X.index, n_cat_errors, replace=True)\n",
    "\n",
    "        for idx in error_row_indices:\n",
    "            match np.random.choice(2):\n",
    "                case 0:\n",
    "                    self.X.at[idx, 'type'] = self.X.at[idx, 'type'] + 'skin'\n",
    "                case 1:\n",
    "                    self.X.at[idx, 'mindspike'] = 'ERROR'"
   ]
  },
  {
   "cell_type": "code",
   "execution_count": 60,
   "id": "655d6d66",
   "metadata": {},
   "outputs": [],
   "source": [
    "from sklearn.datasets import (\n",
    "    make_moons, make_circles, make_blobs, make_classification, make_hastie_10_2,\n",
    "    make_friedman1, make_friedman2, make_friedman3, make_regression\n",
    ")\n",
    "#from sklearn.preprocessing import MinMaxScaler\n",
    "from typing import Callable\n",
    "\n",
    "class ds:\n",
    "    def __init__(self, weight: float, name: str, generator: Callable[[], tuple[np.ndarray, np.ndarray]]):\n",
    "        self.weight: float = weight\n",
    "        self.name: str = name\n",
    "\n",
    "        self.raw_X: np.ndarray\n",
    "        self.raw_y: np.ndarray\n",
    "        self.raw_X, self.raw_y = generator()\n",
    "\n",
    "        min_y = self.raw_y.min()\n",
    "        max_y = self.raw_y.max()\n",
    "        if min_y == max_y:\n",
    "            self.raw_y = np.zeros_like(self.raw_y)\n",
    "        else:\n",
    "            self.raw_y = (self.raw_y - min_y) / (max_y - min_y)  # Normalize y to [0, 1]\n",
    "\n",
    "        self.X: pd.DataFrame = pd.DataFrame(\n",
    "            self.raw_X,\n",
    "            columns=[\n",
    "                f\"{self.name}_{i+1}\" for i in range(self.raw_X.shape[1])\n",
    "            ]\n",
    "        )\n",
    "        self.y: pd.Series = pd.Series(self.raw_y, name=\"{self.name}_y\")\n",
    "\n",
    "    \n",
    "    def __hash__(self):\n",
    "        return hash(self.name)\n",
    "\n",
    "    def __eq__(self, other):\n",
    "        return isinstance(other, ds) and self.name == other.name\n",
    "\n",
    "# Make sure each has a unique name.\n",
    "DATASETS: list[ds | cds] = [\n",
    "    ds(4, \"moon\",      lambda: make_moons(n_samples=N_SAMPLES, noise=INITIAL_NOISE, random_state=SEED)),\n",
    "    ds(3, \"circle\",    lambda: make_circles(n_samples=N_SAMPLES, noise=INITIAL_NOISE, factor=0.6, random_state=SEED)),\n",
    "    ds(2, \"blob\",      lambda: make_blobs(n_samples=N_SAMPLES, centers=3, n_features=2, random_state=SEED, return_centers=False)), # type: ignore # return_centers=False to avoid returning centers\n",
    "    ds(2, \"hastie\",    lambda: make_hastie_10_2(n_samples=N_SAMPLES, random_state=SEED)),\n",
    "    ds(2, \"friedman1\", lambda: make_friedman1(n_samples=N_SAMPLES, noise=INITIAL_NOISE, random_state=SEED)),\n",
    "    ds(2, \"friedman2\", lambda: make_friedman2(n_samples=N_SAMPLES, noise=INITIAL_NOISE, random_state=SEED)),\n",
    "    ds(2, \"friedman3\", lambda: make_friedman3(n_samples=N_SAMPLES, noise=INITIAL_NOISE, random_state=SEED)),\n",
    "    cds(2),\n",
    "    ds(1, \"class\",     lambda: make_classification(n_samples=N_SAMPLES, n_features=10, n_informative=4, n_redundant=3, n_repeated=2, n_classes=4, class_sep=0.5, flip_y=0.2, weights=[0.6, 0.2, 0.1, 0.1], random_state=SEED)),\n",
    "    ds(1, \"reg\",       lambda: make_regression(n_samples=N_SAMPLES, n_features=5, n_informative=3, noise=INITIAL_NOISE, random_state=SEED, coef=False)), # type: ignore # coef=False to avoid returning coefficients\n",
    "]"
   ]
  },
  {
   "cell_type": "code",
   "execution_count": 61,
   "id": "1014c928",
   "metadata": {},
   "outputs": [],
   "source": [
    "df = pd.concat([d.X for d in DATASETS], axis=1)\n",
    "normalized_weights = np.array([d.weight for d in DATASETS], dtype=np.float64) # dtype=np.float64 for division in the next line\n",
    "normalized_weights /= normalized_weights.sum()\n",
    "\n",
    "y_final = sum(DATASETS[i].y * normalized_weights[i] for i in range(len(DATASETS)))\n",
    "y_final += np.random.normal(0, FINAL_NOISE, size= N_SAMPLES) # Some small, random noise to the final target\n",
    "df[TARGET_VARIABLE_NAME] = y_final\n",
    "\n",
    "id = pd.Series(np.arange(N_SAMPLES), name=ID_VARIABLE_NAME)\n",
    "df[ID_VARIABLE_NAME] = id\n",
    "# Making sure the ID column is the first column; makes the analysis prettier.\n",
    "cols = [ID_VARIABLE_NAME] + [col for col in df.columns if col != ID_VARIABLE_NAME]\n",
    "df = df[cols]"
   ]
  },
  {
   "cell_type": "markdown",
   "id": "c2d00422",
   "metadata": {},
   "source": [
    "# Analysis"
   ]
  },
  {
   "cell_type": "code",
   "execution_count": 64,
   "id": "1081aa7c",
   "metadata": {},
   "outputs": [
    {
     "data": {
      "text/plain": [
       "<Axes: >"
      ]
     },
     "execution_count": 64,
     "metadata": {},
     "output_type": "execute_result"
    },
    {
     "data": {
      "image/png": "[encoded data removed]",
      "text/plain": [
       "<Figure size 640x480 with 1 Axes>"
      ]
     },
     "metadata": {},
     "output_type": "display_data"
    }
   ],
   "source": [
    "df['y'].hist() # Should be between 0 and 1, with some noise."
   ]
  },
  {
   "cell_type": "markdown",
   "id": "d9a7c5bf",
   "metadata": {},
   "source": [
    "# CSV Creation"
   ]
  },
  {
   "cell_type": "code",
   "execution_count": 65,
   "id": "42558069",
   "metadata": {},
   "outputs": [],
   "source": [
    "# Shuffle columns, keeping the target column at the end and ID at the beginning\n",
    "cols = df.columns.tolist()\n",
    "df = df[[cols[0]] + np.random.permutation(cols[1:-1]).tolist() + [cols[-1]]]"
   ]
  },
  {
   "cell_type": "code",
   "execution_count": 66,
   "id": "6ec63584",
   "metadata": {},
   "outputs": [],
   "source": [
    "# Thematic renaming of columns\n",
    "renaming = {\n",
    "    ID_VARIABLE_NAME: 'LOCAL_IDENTIFIER',\n",
    "    TARGET_VARIABLE_NAME: 'CORRUCYSTIC_DENSITY',\n",
    "\n",
    "    'moon_1': 'v0rt3X',\n",
    "    'moon_2': 'v1rt3X',\n",
    "    'circle_1': 'r1Ng',\n",
    "    'circle_2': 'r2Ng',\n",
    "    'blob_1': 'b1oRb13',\n",
    "    'blob_2': 'b2oRb13',\n",
    "\n",
    "    'mindspike': 'MINDSPIKE',\n",
    "}\n",
    "\n",
    "generic_cols = [col for col in df.columns if col not in renaming]\n",
    "\n",
    "import string\n",
    "\n",
    "def random_gibberish(mean_length: int = 4, std_length = 3) -> str:\n",
    "    length = max(3, int(round(random.gauss(mean_length, std_length))))\n",
    "    chars = string.ascii_letters + string.digits + string.punctuation\n",
    "    return ''.join(random.choice(chars) for _ in range(length))\n",
    "\n",
    "gibberish_mapping = {col: random_gibberish() for col in generic_cols}\n",
    "\n",
    "final_mapping = {**renaming, **gibberish_mapping}\n",
    "\n",
    "df.rename(columns=final_mapping, inplace=True)"
   ]
  },
  {
   "cell_type": "code",
   "execution_count": 67,
   "id": "4073b9b0",
   "metadata": {},
   "outputs": [],
   "source": [
    "N_PUBLIC_SAMPLES = int(N_SAMPLES * PUBLIC_LEADERBOARD_FRAC)\n",
    "train = df.iloc[:N_TRAIN_SAMPLES]\n",
    "public = df.iloc[N_TRAIN_SAMPLES:N_TRAIN_SAMPLES + N_PUBLIC_SAMPLES]\n",
    "private = df.iloc[N_TRAIN_SAMPLES + N_PUBLIC_SAMPLES:]"
   ]
  },
  {
   "cell_type": "code",
   "execution_count": 68,
   "id": "62712393",
   "metadata": {},
   "outputs": [
    {
     "name": "stderr",
     "output_type": "stream",
     "text": [
      "C:\\Users\\arkma\\AppData\\Local\\Temp\\ipykernel_31108\\3221987326.py:7: SettingWithCopyWarning: \n",
      "A value is trying to be set on a copy of a slice from a DataFrame\n",
      "\n",
      "See the caveats in the documentation: https://pandas.pydata.org/pandas-docs/stable/user_guide/indexing.html#returning-a-view-versus-a-copy\n",
      "  df.drop(columns=[renaming[ID_VARIABLE_NAME]], inplace=True)\n",
      "C:\\Users\\arkma\\AppData\\Local\\Temp\\ipykernel_31108\\3221987326.py:10: SettingWithCopyWarning: \n",
      "A value is trying to be set on a copy of a slice from a DataFrame\n",
      "\n",
      "See the caveats in the documentation: https://pandas.pydata.org/pandas-docs/stable/user_guide/indexing.html#returning-a-view-versus-a-copy\n",
      "  df.drop(columns=[renaming[TARGET_VARIABLE_NAME]], inplace=True)\n",
      "C:\\Users\\arkma\\AppData\\Local\\Temp\\ipykernel_31108\\3221987326.py:7: SettingWithCopyWarning: \n",
      "A value is trying to be set on a copy of a slice from a DataFrame\n",
      "\n",
      "See the caveats in the documentation: https://pandas.pydata.org/pandas-docs/stable/user_guide/indexing.html#returning-a-view-versus-a-copy\n",
      "  df.drop(columns=[renaming[ID_VARIABLE_NAME]], inplace=True)\n",
      "C:\\Users\\arkma\\AppData\\Local\\Temp\\ipykernel_31108\\3221987326.py:7: SettingWithCopyWarning: \n",
      "A value is trying to be set on a copy of a slice from a DataFrame\n",
      "\n",
      "See the caveats in the documentation: https://pandas.pydata.org/pandas-docs/stable/user_guide/indexing.html#returning-a-view-versus-a-copy\n",
      "  df.drop(columns=[renaming[ID_VARIABLE_NAME]], inplace=True)\n"
     ]
    }
   ],
   "source": [
    "# Populate NaNs\n",
    "# WARNING: Renaming has taken place.\n",
    "\n",
    "def add_nans(df: pd.DataFrame, prob, add_on_target: bool = False) -> pd.DataFrame:\n",
    "    # Make some cells NaN with a given probability\n",
    "    id = df[renaming[ID_VARIABLE_NAME]]\n",
    "    df.drop(columns=[renaming[ID_VARIABLE_NAME]], inplace=True)\n",
    "    if add_on_target:\n",
    "        y = df[renaming[TARGET_VARIABLE_NAME]]\n",
    "        df.drop(columns=[renaming[TARGET_VARIABLE_NAME]], inplace=True)\n",
    "    \n",
    "    n_cells = df.size\n",
    "    n_nan = int(n_cells * prob)\n",
    "\n",
    "    # Randomly choose pairs of indices\n",
    "    nan_indices = (\n",
    "        np.random.choice(df.index, n_nan, replace=True),\n",
    "        np.random.choice(df.columns, n_nan, replace=True)\n",
    "    )\n",
    "\n",
    "    # Assign NaN\n",
    "    for row, col in zip(*nan_indices):\n",
    "        df.loc[row, col] = np.nan\n",
    "\n",
    "    df = pd.concat([id, df], axis=1)  # Reattach the ID column\n",
    "    if add_on_target:\n",
    "        df[renaming[TARGET_VARIABLE_NAME]] = y # type: ignore\n",
    "    return df\n",
    "\n",
    "train = add_nans(train, prob=TRAIN_NAN_PROB, add_on_target=True)\n",
    "public = add_nans(public, prob=PUBLIC_NAN_PROB, add_on_target=False)\n",
    "private = add_nans(private, prob=PRIVATE_NAN_PROB, add_on_target=False)"
   ]
  },
  {
   "cell_type": "code",
   "execution_count": 69,
   "id": "c8f23caa",
   "metadata": {},
   "outputs": [],
   "source": [
    "# Save the datasets to CSV files\n",
    "from datetime import datetime\n",
    "timestamp = datetime.now().strftime(\"%d_%H-%M-%S\")\n",
    "\n",
    "train.to_csv(f\"{DATA_DIR}/{timestamp}_train.csv\")\n",
    "public.to_csv(f\"{DATA_DIR}/{timestamp}_public.csv\")\n",
    "private.to_csv(f\"{DATA_DIR}/{timestamp}_private.csv\")"
   ]
  }
 ],
 "metadata": {
  "kernelspec": {
   "display_name": "Python 3",
   "language": "python",
   "name": "python3"
  },
  "language_info": {
   "codemirror_mode": {
    "name": "ipython",
    "version": 3
   },
   "file_extension": ".py",
   "mimetype": "text/x-python",
   "name": "python",
   "nbconvert_exporter": "python",
   "pygments_lexer": "ipython3",
   "version": "3.13.5"
  }
 },
 "nbformat": 4,
 "nbformat_minor": 5
}
