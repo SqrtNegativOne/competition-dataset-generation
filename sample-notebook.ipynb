{
 "cells": [
  {
   "cell_type": "markdown",
   "id": "6df0d766",
   "metadata": {},
   "source": [
    "# GDSC Recruitment Tutorial Notebook\n",
    "This is a sample notebook provided by the FBX for interns specialising in machine learning.\n",
    "\n",
    "Unfortunately, the producers of the notebook lacked the security clearance to actually view the contents of the table beyond the metadata itself, so it's not going to be any good. We thought to provide it anyway."
   ]
  },
  {
   "cell_type": "code",
   "execution_count": null,
   "id": "873f6aee",
   "metadata": {},
   "outputs": [],
   "source": [
    "# We have plenty of better and faster libraries in the year 2086, but the FBX codebase is 80 years old. Literally\n",
    "import pandas as pd\n",
    "import numpy as np\n",
    "from sklearn.model_selection import train_test_split\n",
    "from sklearn.linear_model import LinearRegression\n",
    "from sklearn.metrics import mean_squared_error"
   ]
  },
  {
   "cell_type": "code",
   "execution_count": null,
   "id": "ea93dc79",
   "metadata": {},
   "outputs": [],
   "source": [
    "df=pd.read_csv(\"/kaggle/input/gdsc-ml-nsut-recruitment-comp-2024/train.csv\")"
   ]
  },
  {
   "cell_type": "code",
   "execution_count": null,
   "id": "e500e438",
   "metadata": {},
   "outputs": [],
   "source": [
    "categorical_cols = df.select_dtypes(include=['object']).columns.tolist()\n",
    "numerical_cols = df.select_dtypes(include=[np.number]).columns.drop('CORRUCYSTIC_DENSITY').tolist()"
   ]
  },
  {
   "cell_type": "code",
   "execution_count": null,
   "id": "acf53f18",
   "metadata": {},
   "outputs": [],
   "source": [
    "X = df[numerical_cols] # my clearance level isn't high enough for this crap\n",
    "y = df['CORRUCYSTIC_DENSITY']\n",
    "\n",
    "X_train, X_test, y_train, y_test = train_test_split(X, y, test_size=0.2, random_state=42)"
   ]
  },
  {
   "cell_type": "code",
   "execution_count": null,
   "id": "98e00f7a",
   "metadata": {},
   "outputs": [],
   "source": [
    "model = LinearRegression()\n",
    "model.fit(X_train, y_train)"
   ]
  },
  {
   "cell_type": "code",
   "execution_count": null,
   "id": "52e8c263",
   "metadata": {},
   "outputs": [],
   "source": [
    "y_pred = model.predict(X_test)\n",
    "mse = mean_squared_error(y_test, y_pred)\n",
    "print(f\"Mean Squared Error on test set: {mse:.4f}\")"
   ]
  }
 ],
 "metadata": {
  "language_info": {
   "name": "python"
  }
 },
 "nbformat": 4,
 "nbformat_minor": 5
}
