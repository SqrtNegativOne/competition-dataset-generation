{
 "cells": [
  {
   "cell_type": "markdown",
   "id": "6df0d766",
   "metadata": {},
   "source": [
    "# GDSC Recruitment Tutorial Notebook\n",
    "\n",
    "This is a sample notebook provided by the FBX for interns specialising in machine learning.\n",
    "\n",
    "This was made by someone with very little knowledge of the contents of the dataset. Contents which you are allowed to understand."
   ]
  }
 ],
 "metadata": {
  "language_info": {
   "name": "python"
  }
 },
 "nbformat": 4,
 "nbformat_minor": 5
}
